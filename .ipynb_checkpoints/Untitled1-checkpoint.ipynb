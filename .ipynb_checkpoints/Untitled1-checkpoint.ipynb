{
 "cells": [
  {
   "cell_type": "code",
   "execution_count": 4,
   "metadata": {},
   "outputs": [],
   "source": [
    "import os\n",
    "import sys\n",
    "import argparse\n",
    "import time\n",
    "import numpy as np\n",
    "import matplotlib.pyplot as plt\n",
    "from scipy import ndimage\n",
    "from scipy.interpolate import splprep, splev\n",
    "from scipy.integrate import simps\n",
    "from scipy.ndimage.filters import uniform_filter\n",
    "from skimage import filters, feature, morphology, measure\n",
    "from skimage.morphology import disk\n",
    "from skimage.color import rgb2gray\n",
    "from itertools import count\n",
    "\n",
    "\n",
    "import cv2 \n",
    "\n",
    "import pandas as pd\n",
    "from PIL import Image\n",
    "import glob\n",
    "\n",
    "import re\n",
    "import imutils\n",
    "from skimage.feature import peak_local_max\n",
    "from skimage.morphology import watershed\n",
    "from scipy import ndimage\n",
    "import collections\n",
    "from skimage.draw import circle, line\n",
    "from skimage.measure import regionprops\n",
    "import tqdm\n",
    "import matplotlib.image as mpimg\n",
    "from scipy.spatial import distance as dist\n",
    "#from snakes import fit_snake"
   ]
  },
  {
   "cell_type": "code",
   "execution_count": 5,
   "metadata": {},
   "outputs": [],
   "source": [
    "def atoi(text):\n",
    "   return int(text) if text.isdigit() else text\n",
    "def natural_keys(text):\n",
    "   return [atoi(c) for c in re.split('(\\d+)', text)]\n"
   ]
  },
  {
   "cell_type": "code",
   "execution_count": 6,
   "metadata": {},
   "outputs": [],
   "source": [
    "l = [0,1,2,3,4,5,0,23,34,0,45,0,21,58,98,76,68,0]"
   ]
  },
  {
   "cell_type": "code",
   "execution_count": 7,
   "metadata": {},
   "outputs": [],
   "source": [
    "for ix,i in enumerate(l):\n",
    "    m = max(l)\n",
    "    if i == 0:\n",
    "        l[ix] = (m+1)\n",
    "        \n"
   ]
  },
  {
   "cell_type": "code",
   "execution_count": 10,
   "metadata": {},
   "outputs": [
    {
     "data": {
      "text/plain": [
       "[99, 1, 2, 3, 4, 5, 100, 23, 34, 101, 45, 102, 21, 58, 98, 76, 68, 103]"
      ]
     },
     "execution_count": 10,
     "metadata": {},
     "output_type": "execute_result"
    }
   ],
   "source": [
    "c = count(max(l)+1)\n",
    "[x if x else next(c) for x in l]"
   ]
  },
  {
   "cell_type": "code",
   "execution_count": null,
   "metadata": {},
   "outputs": [],
   "source": []
  }
 ],
 "metadata": {
  "kernelspec": {
   "display_name": "Python 3",
   "language": "python",
   "name": "python3"
  },
  "language_info": {
   "codemirror_mode": {
    "name": "ipython",
    "version": 3
   },
   "file_extension": ".py",
   "mimetype": "text/x-python",
   "name": "python",
   "nbconvert_exporter": "python",
   "pygments_lexer": "ipython3",
   "version": "3.7.3"
  }
 },
 "nbformat": 4,
 "nbformat_minor": 4
}
