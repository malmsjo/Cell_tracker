{
 "cells": [
  {
   "cell_type": "code",
   "execution_count": 1,
   "metadata": {},
   "outputs": [],
   "source": [
    "import numpy as np\n",
    "import cv2 \n",
    "import matplotlib.pyplot as plt\n",
    "import pandas as pd\n",
    "from PIL import Image\n",
    "import glob\n",
    "import os\n",
    "import re\n",
    "import imutils\n",
    "from skimage.feature import peak_local_max\n",
    "from skimage.morphology import watershed\n",
    "from scipy import ndimage\n",
    "import collections\n",
    "from skimage.draw import circle, line\n",
    "from skimage.measure import regionprops\n",
    "import tqdm\n",
    "import matplotlib.image as mpimg\n",
    "from scipy.spatial import distance as dist\n",
    "from itertools import count"
   ]
  },
  {
   "cell_type": "code",
   "execution_count": 2,
   "metadata": {},
   "outputs": [],
   "source": [
    "def atoi(text):\n",
    "   return int(text) if text.isdigit() else text\n",
    "def natural_keys(text):\n",
    "   return [atoi(c) for c in re.split('(\\d+)', text)]\n"
   ]
  },
  {
   "cell_type": "code",
   "execution_count": 3,
   "metadata": {},
   "outputs": [],
   "source": [
    "\n",
    "image_list = []\n",
    "for filename in sorted(glob.glob('track_cells/*.tiff'), key=natural_keys): \n",
    "    im=cv2.imread(filename)\n",
    "   \n",
    "    image_list.append(im)"
   ]
  },
  {
   "cell_type": "code",
   "execution_count": 4,
   "metadata": {},
   "outputs": [],
   "source": [
    "def return_cord(i_0):    \n",
    "    cx = []\n",
    "    cy = []\n",
    "\n",
    "    shifted = cv2.pyrMeanShiftFiltering(i_0, 10, 51)\n",
    "    gray = cv2.cvtColor(shifted,cv2.COLOR_BGR2GRAY)\n",
    "    thresh = cv2.threshold(gray, 20, 255, cv2.THRESH_BINARY | cv2.THRESH_OTSU)[1]\n",
    "    D = ndimage.distance_transform_edt(thresh)\n",
    "    localMax = peak_local_max(D, indices=False, min_distance=9, labels=thresh)\n",
    "    markers = ndimage.label(localMax, structure=np.ones((3, 3)))[0]\n",
    "    labels = watershed(-D, markers, mask=thresh)\n",
    "\n",
    "\n",
    "\n",
    "    for label in np.unique(labels):\n",
    "        if label == 0:\n",
    "            continue\n",
    "\n",
    "\n",
    "\n",
    "\n",
    "        mask = np.zeros(gray.shape, dtype='uint8')\n",
    "        mask[labels == label] = 255\n",
    "        cnts = cv2.findContours(mask.copy(), cv2.RETR_EXTERNAL, cv2.CHAIN_APPROX_NONE)\n",
    "        cnts = imutils.grab_contours(cnts)\n",
    "        c = max(cnts, key=cv2.contourArea)\n",
    "        ((x, y), r) = cv2.minEnclosingCircle(c)\n",
    "\n",
    "\n",
    "\n",
    "        cx.append(int(x))\n",
    "        cy.append(int(y))\n",
    "        \n",
    "        l1 = np.column_stack((cx,cy))\n",
    "        \n",
    "\n",
    "    return l1, cx, cy\n"
   ]
  },
  {
   "cell_type": "code",
   "execution_count": 5,
   "metadata": {},
   "outputs": [],
   "source": [
    "def eucl_dist_matrix(cor_t, cor_t1):\n",
    "    \n",
    "    d = dist.cdist(cor_t, cor_t1)\n",
    "    rows = d.min(axis=1).argsort()\n",
    "    cols = d.argmin(axis=1)[rows]\n",
    "    \n",
    "    list_id_index = (list(zip(rows, cols)))\n",
    "    list_id_index = sorted(list_id_index)\n",
    "    \n",
    "    \n",
    "    \n",
    "    \n",
    "    return rows, cols, list_id_index ,d "
   ]
  },
  {
   "cell_type": "code",
   "execution_count": 6,
   "metadata": {},
   "outputs": [],
   "source": [
    "# d1 = dist.cdist(cor_1, cor_2)\n",
    "# rows1 = d1.min(axis=1).argsort()\n",
    "# cols1 = d1.argmin(axis=1)[rows1]\n",
    "# d1.shape"
   ]
  },
  {
   "cell_type": "code",
   "execution_count": 7,
   "metadata": {},
   "outputs": [],
   "source": [
    "# t1 = (list(zip(rows1, cols1)))\n",
    "# t1"
   ]
  },
  {
   "cell_type": "code",
   "execution_count": 8,
   "metadata": {},
   "outputs": [],
   "source": [
    "i_0 = image_list[0]\n",
    "\n",
    "i_1 = image_list[1]\n",
    "\n",
    "i_2 = image_list[2]\n",
    "\n",
    "i_3 = image_list[3]"
   ]
  },
  {
   "cell_type": "code",
   "execution_count": 9,
   "metadata": {},
   "outputs": [],
   "source": [
    "cor_1,x1,y1 = return_cord(i_0)\n",
    "cor_2,x2,y2 = return_cord(i_1)\n",
    "cor_3,x3,y3 = return_cord(i_2)\n",
    "cor_4,x4,y4 = return_cord(i_3)"
   ]
  },
  {
   "cell_type": "code",
   "execution_count": 10,
   "metadata": {},
   "outputs": [],
   "source": [
    "# t = (list(zip(rows1,cols1)))\n",
    "# t = sorted(t)\n",
    "# t"
   ]
  },
  {
   "cell_type": "code",
   "execution_count": null,
   "metadata": {},
   "outputs": [],
   "source": []
  },
  {
   "cell_type": "code",
   "execution_count": 11,
   "metadata": {},
   "outputs": [],
   "source": [
    "def find_duplicates_col(rows, columns,list_id_index, distance_matrix):\n",
    "    \n",
    "    col = columns.tolist()\n",
    "    duplicates = []\n",
    "    for item in col:\n",
    "        if col.count(item) > 1:\n",
    "            duplicates.append(item)\n",
    "    duplicate_columns = set(duplicates)\n",
    "    \n",
    "    d = []\n",
    "    r = []\n",
    "    c = []\n",
    "    for ix, (a, b) in enumerate(zip(rows, columns)):\n",
    "        for i in duplicate_columns: \n",
    "            if b == i:\n",
    "                d.append(distance_matrix[a][b])\n",
    "                r. append(a)\n",
    "                c.append(b)\n",
    "                \n",
    "    w = (list(zip(r,c,d)))\n",
    "    w.sort(key = lambda t: t[1])\n",
    "    w\n",
    "    \n",
    "    temp = {}\n",
    "    for row, col, di in w:\n",
    "        if col not in temp: # we see this key for the first time\n",
    "            temp[col] = (row, col, di)\n",
    "        else:\n",
    "            if temp[col][2] > di: # the new date is larger than the old one\n",
    "                temp[col] = (row, col, di)\n",
    "\n",
    "    result = temp.values()\n",
    "\n",
    "    result = list(result)\n",
    "\n",
    "    l2set = set(result)\n",
    "    colums_to_remove = [x for x in w if x not in l2set] # cordinates that have to be removed\n",
    "     \n",
    "    rem_row, rem_col, rem_dit = zip(*colums_to_remove)\n",
    "    rem_cor = (list(zip(rem_row,rem_col)))\n",
    "    \n",
    "    rem_cor = set(rem_cor)\n",
    "    \n",
    "    keep_cor = [x for x in list_id_index if x not in rem_cor]\n",
    "\n",
    "    keep_cor.sort(key = lambda t: t[1])\n",
    "    \n",
    "    id_cell, index = zip(*keep_cor)\n",
    "\n",
    "    \n",
    "    return id_cell, index, duplicate_columns"
   ]
  },
  {
   "cell_type": "code",
   "execution_count": 12,
   "metadata": {},
   "outputs": [],
   "source": [
    "# col = cols1.tolist()\n",
    "# duplicates = []\n",
    "# for item in col:\n",
    "#     if col.count(item) > 1:\n",
    "#         duplicates.append(item)\n",
    "# dup_set = set(duplicates)\n",
    "# dup_set"
   ]
  },
  {
   "cell_type": "code",
   "execution_count": 13,
   "metadata": {},
   "outputs": [],
   "source": [
    "# d = []\n",
    "# r = []\n",
    "# c = []\n",
    "# for ix, (a, b) in enumerate(zip(rows1, cols1)):\n",
    "#     for i in dup_set: \n",
    "#         if b == i:\n",
    "#             d.append(d1[a][b])\n",
    "#             r. append(a)\n",
    "#             c.append(b)\n",
    "            "
   ]
  },
  {
   "cell_type": "code",
   "execution_count": 14,
   "metadata": {},
   "outputs": [],
   "source": [
    "# w = (list(zip(r,c,d)))\n",
    "# w.sort(key = lambda t: t[1])\n",
    "# w"
   ]
  },
  {
   "cell_type": "code",
   "execution_count": 15,
   "metadata": {},
   "outputs": [],
   "source": [
    "# temp = {}\n",
    "# for row, col, di in w:\n",
    "#     if col not in temp: # we see this key for the first time\n",
    "#         temp[col] = (row, col, di)\n",
    "#     else:\n",
    "#         if temp[col][2] > di: # the new date is larger than the old one\n",
    "#             temp[col] = (row, col, di)\n",
    "\n",
    "# result = temp.values()\n",
    "\n",
    "# result = list(result)\n",
    "\n",
    "# result"
   ]
  },
  {
   "cell_type": "code",
   "execution_count": 16,
   "metadata": {},
   "outputs": [],
   "source": [
    "# l2set = set(result)\n",
    "# l3 = [x for x in w if x not in l2set]\n",
    "# l3  # cordinates that have to be removed"
   ]
  },
  {
   "cell_type": "code",
   "execution_count": 17,
   "metadata": {},
   "outputs": [],
   "source": [
    "# rem_row, rem_col, rem_dit = zip(*l3)\n",
    "# rem_cor = (list(zip(rem_row,rem_col)))\n",
    "\n",
    "# rem_cor = set(rem_cor)\n",
    "# keep_cor = [x for x in t if x not in rem_cor]\n",
    "# keep_cor \n",
    "# keep_cor.sort(key = lambda t: t[1])\n",
    "# keep_cor"
   ]
  },
  {
   "cell_type": "code",
   "execution_count": 18,
   "metadata": {},
   "outputs": [],
   "source": [
    "# id_cell, index = zip(*keep_cor)"
   ]
  },
  {
   "cell_type": "code",
   "execution_count": 19,
   "metadata": {},
   "outputs": [],
   "source": [
    "def remove_duplicates(x, y, index):\n",
    "    \n",
    "    large = max(index)\n",
    "    lst = list(range(0,(large+1)))\n",
    "    \n",
    "    ix = set(index)\n",
    "    \n",
    "    missing_ix = [x for x in lst if x not in ix]\n",
    "    \n",
    "    centroid_t = (list(zip(x,y)))\n",
    "    \n",
    "    real_centroid = [i for j, i in enumerate(centroid_t) if j not in missing_ix]\n",
    "    \n",
    "    x_i, y_i = zip(*real_centroid)\n",
    "    \n",
    "    stacket_centroids = np.column_stack((x_i,y_i))\n",
    "    \n",
    "    \n",
    "    \n",
    "    return(x_i, y_i, stacket_centroids)"
   ]
  },
  {
   "cell_type": "code",
   "execution_count": 20,
   "metadata": {},
   "outputs": [],
   "source": [
    "# large = max(index)"
   ]
  },
  {
   "cell_type": "code",
   "execution_count": 21,
   "metadata": {},
   "outputs": [],
   "source": [
    "# lst = list(range(0,(large+1)))"
   ]
  },
  {
   "cell_type": "code",
   "execution_count": 22,
   "metadata": {},
   "outputs": [],
   "source": [
    "# ix = set(index)\n",
    "# missing_ix = [x for x in lst if x not in ix]"
   ]
  },
  {
   "cell_type": "code",
   "execution_count": 23,
   "metadata": {},
   "outputs": [],
   "source": [
    "# missing_ix"
   ]
  },
  {
   "cell_type": "code",
   "execution_count": 24,
   "metadata": {},
   "outputs": [],
   "source": [
    "# centroid_t2 = (list(zip(x2,y2)))\n",
    "# len(centroid_t2)"
   ]
  },
  {
   "cell_type": "code",
   "execution_count": 25,
   "metadata": {},
   "outputs": [],
   "source": [
    "# real_centroid = [i for j, i in enumerate(centroid_t2) if j not in missing_ix]"
   ]
  },
  {
   "cell_type": "code",
   "execution_count": 26,
   "metadata": {},
   "outputs": [],
   "source": [
    "# len(real_centroid)"
   ]
  },
  {
   "cell_type": "code",
   "execution_count": 27,
   "metadata": {},
   "outputs": [],
   "source": [
    "# x_2, y_2 = zip(*real_centroid)"
   ]
  },
  {
   "cell_type": "code",
   "execution_count": 28,
   "metadata": {},
   "outputs": [],
   "source": [
    "rows_1_2, cols_1_2, list_id_index_1_2 ,d_1_2 = eucl_dist_matrix(cor_1, cor_2)"
   ]
  },
  {
   "cell_type": "code",
   "execution_count": 29,
   "metadata": {},
   "outputs": [],
   "source": [
    "id_cell, index, duplicate_columns = find_duplicates_col(rows_1_2, cols_1_2, list_id_index_1_2, d_1_2)"
   ]
  },
  {
   "cell_type": "code",
   "execution_count": 30,
   "metadata": {},
   "outputs": [],
   "source": [
    "x_2, y_2, new_cor_2 = remove_duplicates(x2,y2, index)"
   ]
  },
  {
   "cell_type": "code",
   "execution_count": null,
   "metadata": {},
   "outputs": [],
   "source": []
  },
  {
   "cell_type": "code",
   "execution_count": null,
   "metadata": {},
   "outputs": [],
   "source": []
  },
  {
   "cell_type": "code",
   "execution_count": null,
   "metadata": {},
   "outputs": [],
   "source": []
  },
  {
   "cell_type": "code",
   "execution_count": 31,
   "metadata": {},
   "outputs": [
    {
     "data": {
      "text/plain": [
       "(92, 103)"
      ]
     },
     "execution_count": 31,
     "metadata": {},
     "output_type": "execute_result"
    }
   ],
   "source": [
    "len(new_cor_2), len(cor_3)"
   ]
  },
  {
   "cell_type": "code",
   "execution_count": 32,
   "metadata": {},
   "outputs": [
    {
     "data": {
      "text/plain": [
       "(92, 103)"
      ]
     },
     "execution_count": 32,
     "metadata": {},
     "output_type": "execute_result"
    }
   ],
   "source": [
    "d2 = dist.cdist(new_cor_2, cor_3)\n",
    "rows2 = d2.min(axis=1).argsort()\n",
    "cols2 = d2.argmin(axis=1)[rows2]\n",
    "d2.shape"
   ]
  },
  {
   "cell_type": "code",
   "execution_count": 33,
   "metadata": {},
   "outputs": [
    {
     "data": {
      "text/plain": [
       "(array([385, 211]), array([379, 210]))"
      ]
     },
     "execution_count": 33,
     "metadata": {},
     "output_type": "execute_result"
    }
   ],
   "source": [
    "new_cor_2[30], cor_3[33]"
   ]
  },
  {
   "cell_type": "code",
   "execution_count": 34,
   "metadata": {
    "collapsed": true,
    "jupyter": {
     "outputs_hidden": true
    }
   },
   "outputs": [
    {
     "data": {
      "text/plain": [
       "[(0, 0),\n",
       " (1, 2),\n",
       " (2, 1),\n",
       " (3, 3),\n",
       " (4, 6),\n",
       " (5, 7),\n",
       " (6, 4),\n",
       " (7, 5),\n",
       " (8, 8),\n",
       " (9, 9),\n",
       " (10, 11),\n",
       " (11, 12),\n",
       " (12, 13),\n",
       " (13, 15),\n",
       " (14, 16),\n",
       " (15, 14),\n",
       " (16, 17),\n",
       " (17, 18),\n",
       " (18, 20),\n",
       " (19, 19),\n",
       " (20, 22),\n",
       " (21, 24),\n",
       " (22, 26),\n",
       " (23, 25),\n",
       " (24, 27),\n",
       " (25, 29),\n",
       " (26, 30),\n",
       " (27, 31),\n",
       " (28, 34),\n",
       " (29, 32),\n",
       " (30, 33),\n",
       " (31, 35),\n",
       " (32, 36),\n",
       " (33, 37),\n",
       " (34, 38),\n",
       " (35, 39),\n",
       " (36, 40),\n",
       " (37, 41),\n",
       " (38, 42),\n",
       " (39, 43),\n",
       " (40, 44),\n",
       " (41, 45),\n",
       " (42, 47),\n",
       " (43, 48),\n",
       " (44, 49),\n",
       " (45, 51),\n",
       " (46, 53),\n",
       " (47, 54),\n",
       " (48, 55),\n",
       " (49, 56),\n",
       " (50, 57),\n",
       " (51, 58),\n",
       " (52, 60),\n",
       " (53, 61),\n",
       " (54, 62),\n",
       " (55, 63),\n",
       " (56, 64),\n",
       " (57, 65),\n",
       " (58, 67),\n",
       " (59, 66),\n",
       " (60, 69),\n",
       " (61, 70),\n",
       " (62, 71),\n",
       " (63, 72),\n",
       " (64, 73),\n",
       " (65, 74),\n",
       " (66, 76),\n",
       " (67, 75),\n",
       " (68, 77),\n",
       " (69, 78),\n",
       " (70, 80),\n",
       " (71, 82),\n",
       " (72, 83),\n",
       " (73, 84),\n",
       " (74, 85),\n",
       " (75, 86),\n",
       " (76, 87),\n",
       " (77, 88),\n",
       " (78, 90),\n",
       " (79, 89),\n",
       " (80, 91),\n",
       " (81, 92),\n",
       " (82, 93),\n",
       " (83, 94),\n",
       " (84, 95),\n",
       " (85, 96),\n",
       " (86, 97),\n",
       " (87, 98),\n",
       " (88, 99),\n",
       " (89, 100),\n",
       " (90, 101),\n",
       " (91, 102)]"
      ]
     },
     "execution_count": 34,
     "metadata": {},
     "output_type": "execute_result"
    }
   ],
   "source": [
    "matrix = (list(zip(rows2, cols2)))\n",
    "matrix = sorted(matrix)"
   ]
  },
  {
   "cell_type": "code",
   "execution_count": 35,
   "metadata": {},
   "outputs": [],
   "source": [
    "#Since more columns than rows have to firest remove columns that have not been used\n",
    "\n",
    "# col2 = cols2.tolist()\n",
    "# col2 = sorted(col2)\n",
    "# col2"
   ]
  },
  {
   "cell_type": "code",
   "execution_count": 36,
   "metadata": {},
   "outputs": [],
   "source": [
    "row2, col2 = zip(*matrix)\n",
    "col_idx = list(row2)\n"
   ]
  },
  {
   "cell_type": "code",
   "execution_count": 37,
   "metadata": {},
   "outputs": [
    {
     "data": {
      "text/plain": [
       "11"
      ]
     },
     "execution_count": 37,
     "metadata": {},
     "output_type": "execute_result"
    }
   ],
   "source": [
    "#find idx of unused cols\n",
    "\n",
    "unused_col = list(range(0, len(cor_3)))\n",
    "unused = set(col2)\n",
    "idx_unused_col = [x for x in unused_col if x not in unused]\n",
    "len(idx_unused_col)"
   ]
  },
  {
   "cell_type": "code",
   "execution_count": 38,
   "metadata": {},
   "outputs": [
    {
     "data": {
      "text/plain": [
       "set()"
      ]
     },
     "execution_count": 38,
     "metadata": {},
     "output_type": "execute_result"
    }
   ],
   "source": [
    "# find  index of duplicate colums\n",
    "\n",
    "duplicates2 = []\n",
    "for item in col2:\n",
    "    if col2.count(item) > 1:\n",
    "        duplicates2.append(item)\n",
    "dup_set2 = set(duplicates2)\n",
    "dup_set2\n"
   ]
  },
  {
   "cell_type": "code",
   "execution_count": 39,
   "metadata": {},
   "outputs": [],
   "source": [
    "d = []\n",
    "r = []\n",
    "c = []\n",
    "for ix, (a, b) in enumerate(zip(rows2, cols2)):\n",
    "    for i in dup_set2: \n",
    "        if b == i:\n",
    "            d.append(d2[a][b])\n",
    "            r. append(a)\n",
    "            c.append(b)"
   ]
  },
  {
   "cell_type": "code",
   "execution_count": 40,
   "metadata": {},
   "outputs": [
    {
     "data": {
      "text/plain": [
       "[]"
      ]
     },
     "execution_count": 40,
     "metadata": {},
     "output_type": "execute_result"
    }
   ],
   "source": [
    "w = (list(zip(r,c,d)))\n",
    "w.sort(key = lambda t: t[1])\n",
    "w"
   ]
  },
  {
   "cell_type": "code",
   "execution_count": 41,
   "metadata": {},
   "outputs": [
    {
     "data": {
      "text/plain": [
       "[]"
      ]
     },
     "execution_count": 41,
     "metadata": {},
     "output_type": "execute_result"
    }
   ],
   "source": [
    "temp = {}\n",
    "for row, col, di in w:\n",
    "    if col not in temp: # we see this key for the first time\n",
    "        temp[col] = (row, col, di)\n",
    "    else:\n",
    "        if temp[col][2] > di: # the new date is larger than the old one\n",
    "            temp[col] = (row, col, di)\n",
    "\n",
    "result = temp.values()\n",
    "\n",
    "result = list(result)\n",
    "\n",
    "result"
   ]
  },
  {
   "cell_type": "code",
   "execution_count": 42,
   "metadata": {},
   "outputs": [
    {
     "data": {
      "text/plain": [
       "[]"
      ]
     },
     "execution_count": 42,
     "metadata": {},
     "output_type": "execute_result"
    }
   ],
   "source": [
    "l2set = set(result)\n",
    "l3 = [x for x in w if x not in l2set]\n",
    "l3  "
   ]
  },
  {
   "cell_type": "code",
   "execution_count": 43,
   "metadata": {},
   "outputs": [
    {
     "ename": "ValueError",
     "evalue": "not enough values to unpack (expected 3, got 0)",
     "output_type": "error",
     "traceback": [
      "\u001b[0;31m---------------------------------------------------------------------------\u001b[0m",
      "\u001b[0;31mValueError\u001b[0m                                Traceback (most recent call last)",
      "\u001b[0;32m<ipython-input-43-0a58cfc567b4>\u001b[0m in \u001b[0;36m<module>\u001b[0;34m\u001b[0m\n\u001b[0;32m----> 1\u001b[0;31m \u001b[0mrem_row\u001b[0m\u001b[0;34m,\u001b[0m \u001b[0mrem_col\u001b[0m\u001b[0;34m,\u001b[0m \u001b[0mrem_dit\u001b[0m \u001b[0;34m=\u001b[0m \u001b[0mzip\u001b[0m\u001b[0;34m(\u001b[0m\u001b[0;34m*\u001b[0m\u001b[0ml3\u001b[0m\u001b[0;34m)\u001b[0m\u001b[0;34m\u001b[0m\u001b[0;34m\u001b[0m\u001b[0m\n\u001b[0m\u001b[1;32m      2\u001b[0m \u001b[0mrem_cor\u001b[0m \u001b[0;34m=\u001b[0m \u001b[0;34m(\u001b[0m\u001b[0mlist\u001b[0m\u001b[0;34m(\u001b[0m\u001b[0mzip\u001b[0m\u001b[0;34m(\u001b[0m\u001b[0mrem_row\u001b[0m\u001b[0;34m,\u001b[0m\u001b[0mrem_col\u001b[0m\u001b[0;34m)\u001b[0m\u001b[0;34m)\u001b[0m\u001b[0;34m)\u001b[0m\u001b[0;34m\u001b[0m\u001b[0;34m\u001b[0m\u001b[0m\n\u001b[1;32m      3\u001b[0m \u001b[0;34m\u001b[0m\u001b[0m\n\u001b[1;32m      4\u001b[0m \u001b[0mrem_cor\u001b[0m \u001b[0;34m=\u001b[0m \u001b[0mset\u001b[0m\u001b[0;34m(\u001b[0m\u001b[0mrem_cor\u001b[0m\u001b[0;34m)\u001b[0m\u001b[0;34m\u001b[0m\u001b[0;34m\u001b[0m\u001b[0m\n\u001b[1;32m      5\u001b[0m \u001b[0mkeep_cor\u001b[0m \u001b[0;34m=\u001b[0m \u001b[0;34m[\u001b[0m\u001b[0mx\u001b[0m \u001b[0;32mfor\u001b[0m \u001b[0mx\u001b[0m \u001b[0;32min\u001b[0m \u001b[0mmatrix\u001b[0m \u001b[0;32mif\u001b[0m \u001b[0mx\u001b[0m \u001b[0;32mnot\u001b[0m \u001b[0;32min\u001b[0m \u001b[0mrem_cor\u001b[0m\u001b[0;34m]\u001b[0m\u001b[0;34m\u001b[0m\u001b[0;34m\u001b[0m\u001b[0m\n",
      "\u001b[0;31mValueError\u001b[0m: not enough values to unpack (expected 3, got 0)"
     ]
    }
   ],
   "source": [
    "rem_row, rem_col, rem_dit = zip(*l3)\n",
    "rem_cor = (list(zip(rem_row,rem_col)))\n",
    "\n",
    "rem_cor = set(rem_cor)\n",
    "keep_cor = [x for x in matrix if x not in rem_cor]\n",
    "keep_cor # cordinates that have to be removed\n",
    "keep_cor.sort(key = lambda t: t[1])\n",
    "keep_cor"
   ]
  },
  {
   "cell_type": "code",
   "execution_count": 44,
   "metadata": {},
   "outputs": [
    {
     "ename": "NameError",
     "evalue": "name 'keep_cor' is not defined",
     "output_type": "error",
     "traceback": [
      "\u001b[0;31m---------------------------------------------------------------------------\u001b[0m",
      "\u001b[0;31mNameError\u001b[0m                                 Traceback (most recent call last)",
      "\u001b[0;32m<ipython-input-44-6da7251344d2>\u001b[0m in \u001b[0;36m<module>\u001b[0;34m\u001b[0m\n\u001b[0;32m----> 1\u001b[0;31m \u001b[0mdo_not_use\u001b[0m\u001b[0;34m,\u001b[0m \u001b[0mindex_t3\u001b[0m \u001b[0;34m=\u001b[0m \u001b[0mzip\u001b[0m\u001b[0;34m(\u001b[0m\u001b[0;34m*\u001b[0m\u001b[0mkeep_cor\u001b[0m\u001b[0;34m)\u001b[0m\u001b[0;34m\u001b[0m\u001b[0;34m\u001b[0m\u001b[0m\n\u001b[0m",
      "\u001b[0;31mNameError\u001b[0m: name 'keep_cor' is not defined"
     ]
    }
   ],
   "source": [
    "do_not_use, index_t3 = zip(*keep_cor)"
   ]
  },
  {
   "cell_type": "code",
   "execution_count": 45,
   "metadata": {},
   "outputs": [
    {
     "ename": "NameError",
     "evalue": "name 'index_t3' is not defined",
     "output_type": "error",
     "traceback": [
      "\u001b[0;31m---------------------------------------------------------------------------\u001b[0m",
      "\u001b[0;31mNameError\u001b[0m                                 Traceback (most recent call last)",
      "\u001b[0;32m<ipython-input-45-dd6ee05a2762>\u001b[0m in \u001b[0;36m<module>\u001b[0;34m\u001b[0m\n\u001b[0;32m----> 1\u001b[0;31m \u001b[0mlen\u001b[0m\u001b[0;34m(\u001b[0m\u001b[0mindex_t3\u001b[0m\u001b[0;34m)\u001b[0m\u001b[0;34m\u001b[0m\u001b[0;34m\u001b[0m\u001b[0m\n\u001b[0m",
      "\u001b[0;31mNameError\u001b[0m: name 'index_t3' is not defined"
     ]
    }
   ],
   "source": [
    "len(index_t3)"
   ]
  },
  {
   "cell_type": "code",
   "execution_count": 46,
   "metadata": {},
   "outputs": [
    {
     "data": {
      "text/plain": [
       "103"
      ]
     },
     "execution_count": 46,
     "metadata": {},
     "output_type": "execute_result"
    }
   ],
   "source": [
    "centroid_t3 = (list(zip(x3,y3)))\n",
    "len(centroid_t3)"
   ]
  },
  {
   "cell_type": "code",
   "execution_count": 47,
   "metadata": {},
   "outputs": [],
   "source": [
    "miss_idx = idx_unused_col\n",
    "miss_idx\n",
    "centroid_t3 = (list(zip(x3, y3)))\n",
    "real_centroid3 = [i for j, i in enumerate(centroid_t3) if j not in miss_idx]\n"
   ]
  },
  {
   "cell_type": "code",
   "execution_count": 48,
   "metadata": {},
   "outputs": [
    {
     "data": {
      "text/plain": [
       "92"
      ]
     },
     "execution_count": 48,
     "metadata": {},
     "output_type": "execute_result"
    }
   ],
   "source": [
    "len(real_centroid3)"
   ]
  },
  {
   "cell_type": "code",
   "execution_count": 49,
   "metadata": {},
   "outputs": [
    {
     "data": {
      "text/plain": [
       "(379, 210)"
      ]
     },
     "execution_count": 49,
     "metadata": {},
     "output_type": "execute_result"
    }
   ],
   "source": [
    "real_centroid3[29]"
   ]
  },
  {
   "cell_type": "code",
   "execution_count": 50,
   "metadata": {},
   "outputs": [],
   "source": [
    "#HERE IS THE PROBLEM SOME WHERE\n",
    "\n",
    "\n",
    "x_3, y_3 = zip(*real_centroid3)\n",
    "\n",
    "# real = list(real_centroid3)\n",
    "# len(real)"
   ]
  },
  {
   "cell_type": "code",
   "execution_count": 51,
   "metadata": {},
   "outputs": [
    {
     "data": {
      "text/plain": [
       "(807, 213, 379, 210, 115, 206)"
      ]
     },
     "execution_count": 51,
     "metadata": {},
     "output_type": "execute_result"
    }
   ],
   "source": [
    "x_3[30], y_3[30], x_3[29], y_3[29], x_3[28], y_3[28]"
   ]
  },
  {
   "cell_type": "code",
   "execution_count": 52,
   "metadata": {},
   "outputs": [
    {
     "data": {
      "text/plain": [
       "(385, 211, 118, 208, 815, 209)"
      ]
     },
     "execution_count": 52,
     "metadata": {},
     "output_type": "execute_result"
    }
   ],
   "source": [
    "x_2[30], y_2[30], x_2[29], y_2[29], x_2[28], y_2[28]"
   ]
  },
  {
   "cell_type": "code",
   "execution_count": 53,
   "metadata": {},
   "outputs": [],
   "source": [
    "new_cor_3 = np.column_stack((x_3, y_3))"
   ]
  },
  {
   "cell_type": "code",
   "execution_count": 54,
   "metadata": {},
   "outputs": [
    {
     "data": {
      "text/plain": [
       "(array([385, 211]), array([379, 210]))"
      ]
     },
     "execution_count": 54,
     "metadata": {},
     "output_type": "execute_result"
    }
   ],
   "source": [
    "new_cor_2[30], new_cor_3[29]"
   ]
  },
  {
   "cell_type": "code",
   "execution_count": 55,
   "metadata": {},
   "outputs": [
    {
     "data": {
      "text/plain": [
       "(92, 92)"
      ]
     },
     "execution_count": 55,
     "metadata": {},
     "output_type": "execute_result"
    }
   ],
   "source": [
    "d3 = dist.cdist(new_cor_2, new_cor_3)\n",
    "rows3 = d3.min(axis=1).argsort()\n",
    "cols3 = d3.argmin(axis=1)[rows3]\n",
    "d3.shape"
   ]
  },
  {
   "cell_type": "code",
   "execution_count": 57,
   "metadata": {},
   "outputs": [],
   "source": [
    "mat_3 = list(zip(rows3, cols3))\n",
    "mat_3 = sorted(mat_3)\n"
   ]
  },
  {
   "cell_type": "code",
   "execution_count": 58,
   "metadata": {},
   "outputs": [],
   "source": [
    "row3, col3 = zip(*mat_3)\n",
    "col_idx_3 = list(col3)\n",
    "\n"
   ]
  },
  {
   "cell_type": "code",
   "execution_count": 59,
   "metadata": {},
   "outputs": [],
   "source": [
    "\n",
    "correct_3= []\n",
    "\n",
    "for ix, (i,j) in enumerate(zip(row3, col3)):\n",
    "    correct_3.insert(ix, real_centroid3[j])"
   ]
  },
  {
   "cell_type": "code",
   "execution_count": 60,
   "metadata": {},
   "outputs": [
    {
     "data": {
      "text/plain": [
       "(379, 210)"
      ]
     },
     "execution_count": 60,
     "metadata": {},
     "output_type": "execute_result"
    }
   ],
   "source": [
    "correct_3[30]"
   ]
  },
  {
   "cell_type": "code",
   "execution_count": 61,
   "metadata": {},
   "outputs": [],
   "source": [
    "x_3, y_3 = zip(*correct_3)"
   ]
  },
  {
   "cell_type": "code",
   "execution_count": 62,
   "metadata": {},
   "outputs": [
    {
     "data": {
      "text/plain": [
       "True"
      ]
     },
     "execution_count": 62,
     "metadata": {},
     "output_type": "execute_result"
    }
   ],
   "source": [
    "df2 = pd.DataFrame(list(zip(x_3, y_3, id_cell)), \n",
    "               columns =['row', 'col', 'id_cell']) \n",
    "\n",
    "\n",
    "x = []\n",
    "y = []\n",
    "corrdinate = []\n",
    "for i in range(len(df2)):\n",
    "    x.append(df2.iloc[i,0])\n",
    "    y.append(df2.iloc[i,1])\n",
    "    corrdinate.append(df2.iloc[i,2])\n",
    "\n",
    "    \n",
    "    \n",
    "for idx, i in enumerate(x):\n",
    "    \n",
    "\n",
    "    \n",
    "    cv2.circle(i_2, (x[idx], y[idx]), 3, (0, 255, 255), -1)\n",
    "    cv2.putText(i_2, \"{0}\".format(corrdinate[idx]), (x[idx] - 20, y[idx] - 20),\n",
    "\t\tcv2.FONT_HERSHEY_SIMPLEX, 0.5, (255, 255, 255), 1)\n",
    "    \n",
    "cv2.imwrite('img_3.png', i_2)"
   ]
  },
  {
   "cell_type": "code",
   "execution_count": 63,
   "metadata": {},
   "outputs": [
    {
     "data": {
      "text/plain": [
       "True"
      ]
     },
     "execution_count": 63,
     "metadata": {},
     "output_type": "execute_result"
    }
   ],
   "source": [
    "df2 = pd.DataFrame(list(zip(x_2, y_2, id_cell)), \n",
    "               columns =['row', 'col', 'id_cell']) \n",
    "\n",
    "\n",
    "x = []\n",
    "y = []\n",
    "corrdinate = []\n",
    "for i in range(len(df2)):\n",
    "    x.append(df2.iloc[i,0])\n",
    "    y.append(df2.iloc[i,1])\n",
    "    corrdinate.append(df2.iloc[i,2])\n",
    "\n",
    "    \n",
    "    \n",
    "for idx, i in enumerate(x):\n",
    "    \n",
    "\n",
    "    \n",
    "    cv2.circle(i_1, (x[idx], y[idx]), 3, (0, 255, 255), -1)\n",
    "    cv2.putText(i_1, \"{0}\".format(corrdinate[idx]), (x[idx] - 20, y[idx] - 20),\n",
    "\t\tcv2.FONT_HERSHEY_SIMPLEX, 0.5, (255, 255, 255), 1)\n",
    "    \n",
    "cv2.imwrite('img_2.png', i_1)"
   ]
  },
  {
   "cell_type": "code",
   "execution_count": 64,
   "metadata": {},
   "outputs": [
    {
     "data": {
      "text/plain": [
       "True"
      ]
     },
     "execution_count": 64,
     "metadata": {},
     "output_type": "execute_result"
    }
   ],
   "source": [
    "df = pd.DataFrame(list(zip(x1, y1)), \n",
    "               columns =['row', 'col']) \n",
    "\n",
    "\n",
    "x = []\n",
    "y = []\n",
    "\n",
    "for i in range(len(df)):\n",
    "    x.append(df.iloc[i,0])\n",
    "    y.append(df.iloc[i,1])\n",
    "    #corrdinate.append(df2.iloc[i,2])\n",
    "\n",
    "    \n",
    "    \n",
    "for idx, i in enumerate(x):\n",
    "    \n",
    "\n",
    "    \n",
    "    cv2.circle(i_0, (x[idx], y[idx]), 3, (0, 255, 255), -1)\n",
    "    cv2.putText(i_0, \"{0}\".format(idx), (x[idx] - 20, y[idx] - 20),\n",
    "\t\tcv2.FONT_HERSHEY_SIMPLEX, 0.5, (255, 255, 255), 1)\n",
    "    \n",
    "cv2.imwrite('img_1.png', i_0)"
   ]
  },
  {
   "cell_type": "code",
   "execution_count": 65,
   "metadata": {},
   "outputs": [
    {
     "data": {
      "text/plain": [
       "(92, 103)"
      ]
     },
     "execution_count": 65,
     "metadata": {},
     "output_type": "execute_result"
    }
   ],
   "source": [
    "len(correct_3), len(cor_4)"
   ]
  },
  {
   "cell_type": "code",
   "execution_count": 66,
   "metadata": {},
   "outputs": [
    {
     "data": {
      "text/plain": [
       "92"
      ]
     },
     "execution_count": 66,
     "metadata": {},
     "output_type": "execute_result"
    }
   ],
   "source": [
    "len(id_cell)"
   ]
  },
  {
   "cell_type": "markdown",
   "metadata": {},
   "source": [
    "## FOR T3 TO T4"
   ]
  },
  {
   "cell_type": "code",
   "execution_count": 67,
   "metadata": {},
   "outputs": [
    {
     "data": {
      "text/plain": [
       "(92, 103)"
      ]
     },
     "execution_count": 67,
     "metadata": {},
     "output_type": "execute_result"
    }
   ],
   "source": [
    "d4 = dist.cdist(correct_3, cor_4)\n",
    "rows4 = d4.min(axis=1).argsort()\n",
    "cols4 = d4.argmin(axis=1)[rows4]\n",
    "d4.shape"
   ]
  },
  {
   "cell_type": "code",
   "execution_count": 68,
   "metadata": {},
   "outputs": [],
   "source": [
    "matrix4= (list(zip(rows4, cols4)))\n",
    "matrix4 = sorted(matrix4)\n"
   ]
  },
  {
   "cell_type": "code",
   "execution_count": 69,
   "metadata": {},
   "outputs": [],
   "source": [
    "row4, col4 = zip(*matrix4)\n",
    "\n",
    "matrix4 = list(zip(row4, col4))\n"
   ]
  },
  {
   "cell_type": "code",
   "execution_count": 70,
   "metadata": {},
   "outputs": [
    {
     "data": {
      "text/plain": [
       "(103, 92)"
      ]
     },
     "execution_count": 70,
     "metadata": {},
     "output_type": "execute_result"
    }
   ],
   "source": [
    "len(cor_4), len(col4)"
   ]
  },
  {
   "cell_type": "code",
   "execution_count": 71,
   "metadata": {},
   "outputs": [
    {
     "data": {
      "text/plain": [
       "[11, 20, 23, 25, 28, 44, 47, 55, 59, 60, 78, 81]"
      ]
     },
     "execution_count": 71,
     "metadata": {},
     "output_type": "execute_result"
    }
   ],
   "source": [
    "unused_col = list(range(0, len(cor_4)))\n",
    "unused = set(col4)\n",
    "idx_unused_col = [x for x in unused_col if x not in unused]\n",
    "len(idx_unused_col)\n",
    "idx_unused_col"
   ]
  },
  {
   "cell_type": "code",
   "execution_count": 72,
   "metadata": {},
   "outputs": [
    {
     "data": {
      "text/plain": [
       "{41}"
      ]
     },
     "execution_count": 72,
     "metadata": {},
     "output_type": "execute_result"
    }
   ],
   "source": [
    "# find  index of duplicate colums\n",
    "\n",
    "duplicates2 = []\n",
    "for item in col4:\n",
    "    if col4.count(item) > 1:\n",
    "        duplicates2.append(item)\n",
    "dup_set2 = set(duplicates2)\n",
    "dup_set2"
   ]
  },
  {
   "cell_type": "code",
   "execution_count": 73,
   "metadata": {},
   "outputs": [],
   "source": [
    "d = []\n",
    "r = []\n",
    "c = []\n",
    "\n",
    "for ix, (a, b) in enumerate(zip(row4, col4)):\n",
    "    for i in dup_set2: \n",
    "        if b == i:\n",
    "            d.append(d4[a][b])\n",
    "            r. append(a)\n",
    "            c.append(b)\n",
    "            "
   ]
  },
  {
   "cell_type": "code",
   "execution_count": 74,
   "metadata": {},
   "outputs": [
    {
     "data": {
      "text/plain": [
       "[(36, 41, 4.47213595499958), (37, 41, 66.12110101926616)]"
      ]
     },
     "execution_count": 74,
     "metadata": {},
     "output_type": "execute_result"
    }
   ],
   "source": [
    "w4 = (list(zip(r,c,d)))\n",
    "w4.sort(key = lambda t: t[1])\n",
    "w4"
   ]
  },
  {
   "cell_type": "code",
   "execution_count": 75,
   "metadata": {},
   "outputs": [
    {
     "data": {
      "text/plain": [
       "[(36, 41, 4.47213595499958)]"
      ]
     },
     "execution_count": 75,
     "metadata": {},
     "output_type": "execute_result"
    }
   ],
   "source": [
    "temp4 = {}\n",
    "for row, col, di,in w4:\n",
    "    if col not in temp4: # we see this key for the first time\n",
    "        temp4[col] = (row, col, di,)\n",
    "    else:\n",
    "        if temp4[col][2] > di: # the new date is larger than the old one\n",
    "            temp4[col] = (row, col, di, )\n",
    "\n",
    "result4 = temp4.values()\n",
    "\n",
    "result4 = list(result4)\n",
    "\n",
    "result4"
   ]
  },
  {
   "cell_type": "code",
   "execution_count": 76,
   "metadata": {},
   "outputs": [
    {
     "data": {
      "text/plain": [
       "[(37, 41, 66.12110101926616)]"
      ]
     },
     "execution_count": 76,
     "metadata": {},
     "output_type": "execute_result"
    }
   ],
   "source": [
    "l2set = set(result4)\n",
    "l3 = [x for x in w4 if x not in l2set]\n",
    "l3  "
   ]
  },
  {
   "cell_type": "code",
   "execution_count": 77,
   "metadata": {},
   "outputs": [
    {
     "data": {
      "text/plain": [
       "[(37, 41)]"
      ]
     },
     "execution_count": 77,
     "metadata": {},
     "output_type": "execute_result"
    }
   ],
   "source": [
    "rem_row, rem_col, rem_dit = zip(*l3)\n",
    "rem_cor = (list(zip(rem_row,rem_col)))\n",
    "rem_cor"
   ]
  },
  {
   "cell_type": "code",
   "execution_count": 78,
   "metadata": {},
   "outputs": [
    {
     "data": {
      "text/plain": [
       "91"
      ]
     },
     "execution_count": 78,
     "metadata": {},
     "output_type": "execute_result"
    }
   ],
   "source": [
    "\n",
    "rem_cor = set(rem_cor)\n",
    "keep_cor = [x for x in matrix4 if x not in rem_cor]\n",
    "keep_cor # cordinates that have to be removed\n",
    "keep_cor.sort(key = lambda t: t[1])\n",
    "len(keep_cor)"
   ]
  },
  {
   "cell_type": "code",
   "execution_count": 79,
   "metadata": {},
   "outputs": [],
   "source": [
    "new_row4, new_col4 = zip(*keep_cor)"
   ]
  },
  {
   "cell_type": "code",
   "execution_count": 80,
   "metadata": {},
   "outputs": [],
   "source": [
    "new_row4, new_col4 = zip(*keep_cor)\n",
    "large = len(new_row4)\n",
    "large\n",
    "lst = list(range(0,(large+1)))\n",
    "ix = set(new_row4)\n",
    "    \n",
    "m = [x for x in lst if x not in ix]\n",
    "    \n",
    "centroid_t3 = (list(zip(x_3,y_3, id_cell)))\n",
    "    \n",
    "real_centroid3 = [i for j, i in enumerate(centroid_t3) if j not in m]\n",
    "    \n",
    "x_3, y_3, id_cell4 = zip(*real_centroid3)\n",
    "    \n",
    "correct_3 = np.column_stack((x_3,y_3))"
   ]
  },
  {
   "cell_type": "code",
   "execution_count": 81,
   "metadata": {},
   "outputs": [
    {
     "data": {
      "text/plain": [
       "(91, 91)"
      ]
     },
     "execution_count": 81,
     "metadata": {},
     "output_type": "execute_result"
    }
   ],
   "source": [
    "len(correct_3), len(id_cell4)"
   ]
  },
  {
   "cell_type": "code",
   "execution_count": 82,
   "metadata": {},
   "outputs": [
    {
     "data": {
      "text/plain": [
       "12"
      ]
     },
     "execution_count": 82,
     "metadata": {},
     "output_type": "execute_result"
    }
   ],
   "source": [
    "unused_col = list(range(0, len(cor_4)))\n",
    "unused = set(col4)\n",
    "idx_unused_col = [x for x in unused_col if x not in unused]\n",
    "len(idx_unused_col)"
   ]
  },
  {
   "cell_type": "code",
   "execution_count": 83,
   "metadata": {},
   "outputs": [],
   "source": [
    "miss_idx = idx_unused_col\n",
    "miss_idx\n",
    "centroid_t4 = (list(zip(x4, y4)))\n",
    "real_centroid4 = [i for j, i in enumerate(centroid_t4) if j not in miss_idx]"
   ]
  },
  {
   "cell_type": "code",
   "execution_count": 84,
   "metadata": {},
   "outputs": [
    {
     "data": {
      "text/plain": [
       "91"
      ]
     },
     "execution_count": 84,
     "metadata": {},
     "output_type": "execute_result"
    }
   ],
   "source": [
    "len(real_centroid4)"
   ]
  },
  {
   "cell_type": "code",
   "execution_count": 85,
   "metadata": {},
   "outputs": [
    {
     "data": {
      "text/plain": [
       "(91, 91)"
      ]
     },
     "execution_count": 85,
     "metadata": {},
     "output_type": "execute_result"
    }
   ],
   "source": [
    "d4 = dist.cdist(correct_3, real_centroid4)\n",
    "rows4 = d4.min(axis=1).argsort()\n",
    "cols4 = d4.argmin(axis=1)[rows4]\n",
    "d4.shape"
   ]
  },
  {
   "cell_type": "code",
   "execution_count": 86,
   "metadata": {},
   "outputs": [],
   "source": [
    "matrix4= (list(zip(rows4, cols4)))\n",
    "matrix4 = sorted(matrix4)\n"
   ]
  },
  {
   "cell_type": "code",
   "execution_count": 87,
   "metadata": {},
   "outputs": [],
   "source": [
    "row4, col4 = zip(*matrix4)"
   ]
  },
  {
   "cell_type": "code",
   "execution_count": 88,
   "metadata": {},
   "outputs": [
    {
     "data": {
      "text/plain": [
       "(91, 91)"
      ]
     },
     "execution_count": 88,
     "metadata": {},
     "output_type": "execute_result"
    }
   ],
   "source": [
    "len(real_centroid4), len(col4)"
   ]
  },
  {
   "cell_type": "code",
   "execution_count": 90,
   "metadata": {},
   "outputs": [],
   "source": [
    "mat_4 = list(zip(rows4, cols4))\n",
    "mat_4 = sorted(mat_4)\n"
   ]
  },
  {
   "cell_type": "code",
   "execution_count": 91,
   "metadata": {},
   "outputs": [],
   "source": [
    "row4, col4 = zip(*mat_4)\n",
    "col_idx_4 = list(col4)\n",
    "\n",
    "\n",
    "correct_4= []\n",
    "\n",
    "for ix, (i,j) in enumerate(zip(row4, col4)):\n",
    "    correct_4.insert(ix, real_centroid4[j])"
   ]
  },
  {
   "cell_type": "code",
   "execution_count": 92,
   "metadata": {},
   "outputs": [],
   "source": [
    "x_4, y_4 = zip(*correct_4)"
   ]
  },
  {
   "cell_type": "code",
   "execution_count": 93,
   "metadata": {},
   "outputs": [
    {
     "data": {
      "text/plain": [
       "True"
      ]
     },
     "execution_count": 93,
     "metadata": {},
     "output_type": "execute_result"
    }
   ],
   "source": [
    "df2 = pd.DataFrame(list(zip(x_4, y_4, id_cell4)), \n",
    "               columns =['row', 'col', 'id_cell']) \n",
    "\n",
    "\n",
    "x = []\n",
    "y = []\n",
    "corrdinate = []\n",
    "for i in range(len(df2)):\n",
    "    x.append(df2.iloc[i,0])\n",
    "    y.append(df2.iloc[i,1])\n",
    "    corrdinate.append(df2.iloc[i,2])\n",
    "\n",
    "    \n",
    "    \n",
    "for idx, i in enumerate(x):\n",
    "    \n",
    "\n",
    "    \n",
    "    cv2.circle(i_3, (x[idx], y[idx]), 3, (0, 255, 255), -1)\n",
    "    cv2.putText(i_3, \"{0}\".format(corrdinate[idx]), (x[idx] - 20, y[idx] - 20),\n",
    "\t\tcv2.FONT_HERSHEY_SIMPLEX, 0.5, (255, 255, 255), 1)\n",
    "    \n",
    "cv2.imwrite('img_4.png', i_3)"
   ]
  },
  {
   "cell_type": "markdown",
   "metadata": {},
   "source": [
    "## FRO T4 TO T5"
   ]
  },
  {
   "cell_type": "code",
   "execution_count": 94,
   "metadata": {},
   "outputs": [],
   "source": [
    "i_4 = image_list[4]"
   ]
  },
  {
   "cell_type": "code",
   "execution_count": 95,
   "metadata": {},
   "outputs": [],
   "source": [
    "cor_5,x5,y5 = return_cord(i_4)"
   ]
  },
  {
   "cell_type": "code",
   "execution_count": 96,
   "metadata": {},
   "outputs": [
    {
     "data": {
      "text/plain": [
       "102"
      ]
     },
     "execution_count": 96,
     "metadata": {},
     "output_type": "execute_result"
    }
   ],
   "source": [
    "len(cor_5)"
   ]
  },
  {
   "cell_type": "code",
   "execution_count": 97,
   "metadata": {},
   "outputs": [],
   "source": [
    "rows5, cols5, matrix5, d5 = eucl_dist_matrix(correct_4, cor_5)"
   ]
  },
  {
   "cell_type": "code",
   "execution_count": 98,
   "metadata": {},
   "outputs": [
    {
     "data": {
      "text/plain": [
       "(91, 102)"
      ]
     },
     "execution_count": 98,
     "metadata": {},
     "output_type": "execute_result"
    }
   ],
   "source": [
    "d5.shape"
   ]
  },
  {
   "cell_type": "code",
   "execution_count": 99,
   "metadata": {},
   "outputs": [],
   "source": [
    "row5, col5 = zip(*matrix5)\n"
   ]
  },
  {
   "cell_type": "code",
   "execution_count": 100,
   "metadata": {},
   "outputs": [
    {
     "data": {
      "text/plain": [
       "12"
      ]
     },
     "execution_count": 100,
     "metadata": {},
     "output_type": "execute_result"
    }
   ],
   "source": [
    "unused_col = list(range(0, len(cor_5)))\n",
    "unused = set(col5)\n",
    "idx_unused_col = [x for x in unused_col if x not in unused]\n",
    "len(idx_unused_col)\n"
   ]
  },
  {
   "cell_type": "code",
   "execution_count": 101,
   "metadata": {},
   "outputs": [
    {
     "data": {
      "text/plain": [
       "{91}"
      ]
     },
     "execution_count": 101,
     "metadata": {},
     "output_type": "execute_result"
    }
   ],
   "source": [
    "duplicates2 = []\n",
    "for item in col5:\n",
    "    if col5.count(item) > 1:\n",
    "        duplicates2.append(item)\n",
    "dup_set2 = set(duplicates2)\n",
    "dup_set2"
   ]
  },
  {
   "cell_type": "code",
   "execution_count": 102,
   "metadata": {},
   "outputs": [],
   "source": [
    "d = []\n",
    "r = []\n",
    "c = []\n",
    "\n",
    "for ix, (a, b) in enumerate(zip(row5, col5)):\n",
    "    for i in dup_set2: \n",
    "        if b == i:\n",
    "            d.append(d5[a][b])\n",
    "            r. append(a)\n",
    "            c.append(b)"
   ]
  },
  {
   "cell_type": "code",
   "execution_count": 103,
   "metadata": {},
   "outputs": [
    {
     "data": {
      "text/plain": [
       "[(78, 91, 11.180339887498949), (80, 91, 9.848857801796104)]"
      ]
     },
     "execution_count": 103,
     "metadata": {},
     "output_type": "execute_result"
    }
   ],
   "source": [
    "w5 = (list(zip(r,c,d)))\n",
    "w5.sort(key = lambda t: t[1])\n",
    "w5"
   ]
  },
  {
   "cell_type": "code",
   "execution_count": 104,
   "metadata": {},
   "outputs": [
    {
     "data": {
      "text/plain": [
       "[(80, 91, 9.848857801796104)]"
      ]
     },
     "execution_count": 104,
     "metadata": {},
     "output_type": "execute_result"
    }
   ],
   "source": [
    "temp4 = {}\n",
    "for row, col, di,in w5:\n",
    "    if col not in temp4: # we see this key for the first time\n",
    "        temp4[col] = (row, col, di,)\n",
    "    else:\n",
    "        if temp4[col][2] > di: # the new date is larger than the old one\n",
    "            temp4[col] = (row, col, di, )\n",
    "\n",
    "result4 = temp4.values()\n",
    "\n",
    "result4 = list(result4)\n",
    "\n",
    "result4"
   ]
  },
  {
   "cell_type": "code",
   "execution_count": 105,
   "metadata": {},
   "outputs": [
    {
     "data": {
      "text/plain": [
       "[(78, 91, 11.180339887498949)]"
      ]
     },
     "execution_count": 105,
     "metadata": {},
     "output_type": "execute_result"
    }
   ],
   "source": [
    "l2set = set(result4)\n",
    "l3 = [x for x in w5 if x not in l2set]\n",
    "l3  "
   ]
  },
  {
   "cell_type": "code",
   "execution_count": 106,
   "metadata": {},
   "outputs": [
    {
     "data": {
      "text/plain": [
       "[(78, 91)]"
      ]
     },
     "execution_count": 106,
     "metadata": {},
     "output_type": "execute_result"
    }
   ],
   "source": [
    "rem_row, rem_col, rem_dit = zip(*l3)\n",
    "rem_cor = (list(zip(rem_row,rem_col)))\n",
    "rem_cor"
   ]
  },
  {
   "cell_type": "code",
   "execution_count": 107,
   "metadata": {},
   "outputs": [
    {
     "data": {
      "text/plain": [
       "90"
      ]
     },
     "execution_count": 107,
     "metadata": {},
     "output_type": "execute_result"
    }
   ],
   "source": [
    "rem_cor = set(rem_cor)\n",
    "keep_cor = [x for x in matrix5 if x not in rem_cor]\n",
    "keep_cor # cordinates that have to be removed\n",
    "keep_cor.sort(key = lambda t: t[1])\n",
    "len(keep_cor)"
   ]
  },
  {
   "cell_type": "code",
   "execution_count": 108,
   "metadata": {},
   "outputs": [],
   "source": [
    "new_row5, new_col5 = zip(*keep_cor)\n",
    "large = len(new_row5)\n",
    "large\n",
    "lst = list(range(0,(large+1)))\n",
    "ix = set(new_row5)\n",
    "    \n",
    "m = [x for x in lst if x not in ix]\n",
    "    \n",
    "centroid_t4 = (list(zip(x_4,y_4, id_cell4)))\n",
    "    \n",
    "real_centroid4 = [i for j, i in enumerate(centroid_t4) if j not in m]\n",
    "    \n",
    "x_4, y_4, id_cell5 = zip(*real_centroid4)\n",
    "    \n",
    "correct_4 = np.column_stack((x_4,y_4))"
   ]
  },
  {
   "cell_type": "code",
   "execution_count": 109,
   "metadata": {},
   "outputs": [
    {
     "data": {
      "text/plain": [
       "12"
      ]
     },
     "execution_count": 109,
     "metadata": {},
     "output_type": "execute_result"
    }
   ],
   "source": [
    "unused_col = list(range(0, len(cor_5)))\n",
    "unused = set(col5)\n",
    "idx_unused_col = [x for x in unused_col if x not in unused]\n",
    "len(idx_unused_col)"
   ]
  },
  {
   "cell_type": "code",
   "execution_count": 110,
   "metadata": {},
   "outputs": [],
   "source": [
    "miss_idx = idx_unused_col\n",
    "miss_idx\n",
    "centroid_t5 = (list(zip(x5, y5)))\n",
    "real_centroid5 = [i for j, i in enumerate(centroid_t5) if j not in miss_idx]"
   ]
  },
  {
   "cell_type": "code",
   "execution_count": 111,
   "metadata": {},
   "outputs": [
    {
     "data": {
      "text/plain": [
       "(90, 90)"
      ]
     },
     "execution_count": 111,
     "metadata": {},
     "output_type": "execute_result"
    }
   ],
   "source": [
    "d5 = dist.cdist(correct_4, real_centroid5)\n",
    "rows5 = d5.min(axis=1).argsort()\n",
    "cols5 = d5.argmin(axis=1)[rows5]\n",
    "d5.shape"
   ]
  },
  {
   "cell_type": "code",
   "execution_count": 112,
   "metadata": {},
   "outputs": [],
   "source": [
    "mat_5 = list(zip(rows5, cols5))\n",
    "mat_5 = sorted(mat_5)\n"
   ]
  },
  {
   "cell_type": "code",
   "execution_count": 113,
   "metadata": {},
   "outputs": [],
   "source": [
    "row5, col5 = zip(*mat_5)\n",
    "col_idx_5 = list(col5)\n",
    "\n",
    "\n",
    "correct_5= []\n",
    "\n",
    "for ix, (i,j) in enumerate(zip(row5, col5)):\n",
    "    correct_5.insert(ix, real_centroid5[j])"
   ]
  },
  {
   "cell_type": "code",
   "execution_count": 114,
   "metadata": {},
   "outputs": [],
   "source": [
    "x_5, y_5 = zip(*correct_5)"
   ]
  },
  {
   "cell_type": "code",
   "execution_count": 115,
   "metadata": {},
   "outputs": [
    {
     "data": {
      "text/plain": [
       "True"
      ]
     },
     "execution_count": 115,
     "metadata": {},
     "output_type": "execute_result"
    }
   ],
   "source": [
    "df2 = pd.DataFrame(list(zip(x_5, y_5, id_cell5)), \n",
    "               columns =['row', 'col', 'id_cell']) \n",
    "\n",
    "\n",
    "x = []\n",
    "y = []\n",
    "corrdinate = []\n",
    "for i in range(len(df2)):\n",
    "    x.append(df2.iloc[i,0])\n",
    "    y.append(df2.iloc[i,1])\n",
    "    corrdinate.append(df2.iloc[i,2])\n",
    "\n",
    "    \n",
    "    \n",
    "for idx, i in enumerate(x):\n",
    "    \n",
    "\n",
    "    \n",
    "    cv2.circle(i_4, (x[idx], y[idx]), 3, (0, 255, 255), -1)\n",
    "    cv2.putText(i_4, \"{0}\".format(corrdinate[idx]), (x[idx] - 20, y[idx] - 20),\n",
    "\t\tcv2.FONT_HERSHEY_SIMPLEX, 0.5, (255, 255, 255), 1)\n",
    "    \n",
    "cv2.imwrite('img_5.png', i_4)"
   ]
  },
  {
   "cell_type": "code",
   "execution_count": null,
   "metadata": {},
   "outputs": [],
   "source": []
  },
  {
   "cell_type": "code",
   "execution_count": null,
   "metadata": {},
   "outputs": [],
   "source": []
  },
  {
   "cell_type": "code",
   "execution_count": null,
   "metadata": {},
   "outputs": [],
   "source": []
  },
  {
   "cell_type": "code",
   "execution_count": null,
   "metadata": {},
   "outputs": [],
   "source": []
  },
  {
   "cell_type": "code",
   "execution_count": null,
   "metadata": {},
   "outputs": [],
   "source": []
  },
  {
   "cell_type": "code",
   "execution_count": null,
   "metadata": {},
   "outputs": [],
   "source": []
  }
 ],
 "metadata": {
  "kernelspec": {
   "display_name": "Python 3",
   "language": "python",
   "name": "python3"
  },
  "language_info": {
   "codemirror_mode": {
    "name": "ipython",
    "version": 3
   },
   "file_extension": ".py",
   "mimetype": "text/x-python",
   "name": "python",
   "nbconvert_exporter": "python",
   "pygments_lexer": "ipython3",
   "version": "3.7.3"
  }
 },
 "nbformat": 4,
 "nbformat_minor": 4
}
