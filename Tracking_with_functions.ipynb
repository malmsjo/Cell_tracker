{
 "cells": [
  {
   "cell_type": "code",
   "execution_count": 1,
   "metadata": {},
   "outputs": [],
   "source": [
    "import numpy as np\n",
    "import cv2 \n",
    "import matplotlib.pyplot as plt\n",
    "import pandas as pd\n",
    "from PIL import Image\n",
    "import glob\n",
    "import os\n",
    "import re\n",
    "import imutils\n",
    "from skimage.feature import peak_local_max\n",
    "from skimage.morphology import watershed\n",
    "from scipy import ndimage\n",
    "import collections\n",
    "from skimage.draw import circle, line\n",
    "from skimage.measure import regionprops\n",
    "import tqdm\n",
    "import matplotlib.image as mpimg\n",
    "from scipy.spatial import distance as dist"
   ]
  },
  {
   "cell_type": "code",
   "execution_count": 2,
   "metadata": {},
   "outputs": [],
   "source": [
    "def atoi(text):\n",
    "   return int(text) if text.isdigit() else text\n",
    "def natural_keys(text):\n",
    "   return [atoi(c) for c in re.split('(\\d+)', text)]"
   ]
  },
  {
   "cell_type": "code",
   "execution_count": 3,
   "metadata": {},
   "outputs": [],
   "source": [
    "image_list = []\n",
    "for filename in sorted(glob.glob('track_cells/*.tiff'), key=natural_keys): \n",
    "    im=cv2.imread(filename)\n",
    "   \n",
    "    image_list.append(im)"
   ]
  },
  {
   "cell_type": "code",
   "execution_count": 4,
   "metadata": {},
   "outputs": [],
   "source": [
    "def return_cord(i_0):    \n",
    "    cx = []\n",
    "    cy = []\n",
    "\n",
    "    shifted = cv2.pyrMeanShiftFiltering(i_0, 10, 51)\n",
    "    gray = cv2.cvtColor(shifted,cv2.COLOR_BGR2GRAY)\n",
    "    thresh = cv2.threshold(gray, 20, 255, cv2.THRESH_BINARY | cv2.THRESH_OTSU)[1]\n",
    "    D = ndimage.distance_transform_edt(thresh)\n",
    "    localMax = peak_local_max(D, indices=False, min_distance=9, labels=thresh)\n",
    "    markers = ndimage.label(localMax, structure=np.ones((3, 3)))[0]\n",
    "    labels = watershed(-D, markers, mask=thresh)\n",
    "\n",
    "\n",
    "\n",
    "    for label in np.unique(labels):\n",
    "        if label == 0:\n",
    "            continue\n",
    "\n",
    "\n",
    "\n",
    "\n",
    "        mask = np.zeros(gray.shape, dtype='uint8')\n",
    "        mask[labels == label] = 255\n",
    "        cnts = cv2.findContours(mask.copy(), cv2.RETR_EXTERNAL, cv2.CHAIN_APPROX_NONE)\n",
    "        cnts = imutils.grab_contours(cnts)\n",
    "        c = max(cnts, key=cv2.contourArea)\n",
    "        ((x, y), r) = cv2.minEnclosingCircle(c)\n",
    "\n",
    "\n",
    "\n",
    "        cx.append(int(x))\n",
    "        cy.append(int(y))\n",
    "        \n",
    "        l1 = np.column_stack((cx,cy))\n",
    "        \n",
    "\n",
    "    return l1, cx, cy"
   ]
  },
  {
   "cell_type": "code",
   "execution_count": 5,
   "metadata": {},
   "outputs": [],
   "source": [
    "i_0 = image_list[0]\n",
    "\n",
    "i_1 = image_list[1]\n",
    "\n",
    "i_2 = image_list[2]\n",
    "\n",
    "i_3 = image_list[3]\n",
    "\n",
    "i_4 = image_list[4]\n",
    "\n",
    "i_5 = image_list[5]"
   ]
  },
  {
   "cell_type": "code",
   "execution_count": 6,
   "metadata": {},
   "outputs": [],
   "source": [
    "cor_0,x0,y0 = return_cord(i_0)\n",
    "cor_1,x1,y1 = return_cord(i_1)\n",
    "cor_2,x2,y2 = return_cord(i_2)\n",
    "cor_3,x3,y3 = return_cord(i_3)\n",
    "cor_4,x4,y4 = return_cord(i_4)\n",
    "cor_5,x5,y5 = return_cord(i_5)"
   ]
  },
  {
   "cell_type": "code",
   "execution_count": 7,
   "metadata": {},
   "outputs": [],
   "source": [
    "def eucl_dist_matrix(cor_t, cor_t1):\n",
    "    \n",
    "    d = dist.cdist(cor_t, cor_t1)\n",
    "    rows = d.min(axis=1).argsort()\n",
    "    cols = d.argmin(axis=1)[rows]\n",
    "    \n",
    "    list_id_index = (list(zip(rows, cols)))\n",
    "    list_id_index = sorted(list_id_index)\n",
    "    \n",
    "    \n",
    "    \n",
    "    \n",
    "    return rows, cols, list_id_index ,d "
   ]
  },
  {
   "cell_type": "code",
   "execution_count": 46,
   "metadata": {},
   "outputs": [
    {
     "data": {
      "text/plain": [
       "(92, 103)"
      ]
     },
     "execution_count": 46,
     "metadata": {},
     "output_type": "execute_result"
    }
   ],
   "source": [
    "rows1, cols1, matrix1, d1 = eucl_dist_matrix(correct_2, cor_3)\n",
    "\n",
    "d1.shape"
   ]
  },
  {
   "cell_type": "code",
   "execution_count": 47,
   "metadata": {},
   "outputs": [],
   "source": [
    "row1, col1 = zip(*matrix1)"
   ]
  },
  {
   "cell_type": "code",
   "execution_count": 48,
   "metadata": {},
   "outputs": [],
   "source": [
    "#Check for unused columns\n",
    "def check_unused_col(cor_t_1, col_t_1):\n",
    "    \n",
    "    unused_col = list(range(0, len(cor_t_1)))\n",
    "    unused = set(col_t_1)\n",
    "    idx_unused_col = [x for x in unused_col if x not in unused]\n",
    "    \n",
    "    return idx_unused_col\n"
   ]
  },
  {
   "cell_type": "code",
   "execution_count": 49,
   "metadata": {},
   "outputs": [
    {
     "data": {
      "text/plain": [
       "12"
      ]
     },
     "execution_count": 49,
     "metadata": {},
     "output_type": "execute_result"
    }
   ],
   "source": [
    "idx_unused_col = check_unused_col(cor_1, col1)\n",
    "len(idx_unused_col)"
   ]
  },
  {
   "cell_type": "code",
   "execution_count": 50,
   "metadata": {},
   "outputs": [],
   "source": [
    "#Check for duplicates\n",
    "def check_duplicates_col(col_t1):\n",
    "    duplicates2 = []\n",
    "    for item in col_t1:\n",
    "        if col_t1.count(item) > 1:\n",
    "            duplicates2.append(item)\n",
    "    dup_set2 = set(duplicates2)\n",
    "    \n",
    "    return dup_set2"
   ]
  },
  {
   "cell_type": "code",
   "execution_count": 51,
   "metadata": {},
   "outputs": [
    {
     "data": {
      "text/plain": [
       "1"
      ]
     },
     "execution_count": 51,
     "metadata": {},
     "output_type": "execute_result"
    }
   ],
   "source": [
    "duplicate = check_duplicates_col(col1)\n",
    "len(duplicate)"
   ]
  },
  {
   "cell_type": "code",
   "execution_count": 52,
   "metadata": {},
   "outputs": [],
   "source": [
    "# IF LEN OF DUPLICATES = 0, DO NOT DO THIS\n",
    "\n",
    "d = []\n",
    "r = []\n",
    "c = []\n",
    "\n",
    "for ix, (a, b) in enumerate(zip(row1, col1)):\n",
    "    for i in duplicate: \n",
    "        if b == i:\n",
    "            d.append(d1[a][b])\n",
    "            r. append(a)\n",
    "            c.append(b)"
   ]
  },
  {
   "cell_type": "code",
   "execution_count": 53,
   "metadata": {},
   "outputs": [],
   "source": [
    "w = (list(zip(r,c,d)))\n",
    "w.sort(key = lambda t: t[1])\n"
   ]
  },
  {
   "cell_type": "code",
   "execution_count": 54,
   "metadata": {},
   "outputs": [],
   "source": [
    "temp = {}\n",
    "for row, col, di in w:\n",
    "    if col not in temp: # we see this key for the first time\n",
    "        temp[col] = (row, col, di)\n",
    "    else:\n",
    "        if temp[col][2] > di: \n",
    "            temp[col] = (row, col, di)\n",
    "\n",
    "result = temp.values()\n",
    "\n",
    "result = list(result)\n",
    "\n"
   ]
  },
  {
   "cell_type": "code",
   "execution_count": 55,
   "metadata": {},
   "outputs": [],
   "source": [
    "l2set = set(result)\n",
    "l3 = [x for x in w if x not in l2set]\n"
   ]
  },
  {
   "cell_type": "code",
   "execution_count": 56,
   "metadata": {},
   "outputs": [],
   "source": [
    "rem_row, rem_col, rem_dit = zip(*l3)\n",
    "rem_cor = (list(zip(rem_row,rem_col)))\n"
   ]
  },
  {
   "cell_type": "code",
   "execution_count": 57,
   "metadata": {},
   "outputs": [],
   "source": [
    "rem_cor = set(rem_cor)\n",
    "keep_cor = [x for x in matrix1 if x not in rem_cor]\n",
    "keep_cor # cordinates that have to be removed\n",
    "keep_cor.sort(key = lambda t: t[1])\n"
   ]
  },
  {
   "cell_type": "code",
   "execution_count": 59,
   "metadata": {},
   "outputs": [],
   "source": [
    "new_rowt1, new_colt1 = zip(*keep_cor)\n",
    "large = len(new_rowt1)\n",
    "large\n",
    "lst = list(range(0,(large+1)))\n",
    "ix = set(new_rowt1)\n",
    "    \n",
    "m = [x for x in lst if x not in ix]\n",
    "    \n",
    "centroid_t2 = (list(zip(x_2,y_2, id_cell)))\n",
    "    \n",
    "real_centroid2 = [i for j, i in enumerate(centroid_t2) if j not in m]\n",
    "    \n",
    "x_2, y_2, id_cell2= zip(*real_centroid2)\n",
    "    \n",
    "correct_2 = np.column_stack((x_2,y_2))\n",
    "\n"
   ]
  },
  {
   "cell_type": "code",
   "execution_count": 62,
   "metadata": {},
   "outputs": [],
   "source": [
    "# Unused colums\n",
    "\n",
    "miss_idx = idx_unused_col\n",
    "miss_idx\n",
    "centroid_t3 = (list(zip(x3, y3)))\n",
    "real_centroid3 = [i for j, i in enumerate(centroid_t3) if j not in miss_idx]"
   ]
  },
  {
   "cell_type": "code",
   "execution_count": 63,
   "metadata": {},
   "outputs": [
    {
     "data": {
      "text/plain": [
       "(91, 91)"
      ]
     },
     "execution_count": 63,
     "metadata": {},
     "output_type": "execute_result"
    }
   ],
   "source": [
    "rows1, cols1, matrix1, d1 = eucl_dist_matrix(correct_2, real_centroid3)\n",
    "\n",
    "d1.shape"
   ]
  },
  {
   "cell_type": "code",
   "execution_count": 64,
   "metadata": {},
   "outputs": [],
   "source": [
    "row1, col1 = zip(*matrix1)\n",
    "\n",
    "correct_3= []\n",
    "\n",
    "for ix, (i,j) in enumerate(zip(row1, col1)):\n",
    "    correct_3.insert(ix, real_centroid3[j])\n",
    "    \n"
   ]
  },
  {
   "cell_type": "code",
   "execution_count": 65,
   "metadata": {},
   "outputs": [],
   "source": [
    "x_3, y_3 = zip(*correct_3)"
   ]
  },
  {
   "cell_type": "code",
   "execution_count": 25,
   "metadata": {},
   "outputs": [],
   "source": [
    "def get_image(x, y, id_cell, image, number_image):\n",
    "    \n",
    "    df2 = pd.DataFrame(list(zip(x, y, id_cell)), \n",
    "               columns =['row', 'col', 'id_cell']) \n",
    "\n",
    "\n",
    "    x = []\n",
    "    y = []\n",
    "    corrdinate = []\n",
    "    for i in range(len(df2)):\n",
    "        x.append(df2.iloc[i,0])\n",
    "        y.append(df2.iloc[i,1])\n",
    "        corrdinate.append(df2.iloc[i,2])\n",
    "\n",
    "\n",
    "\n",
    "    for idx, i in enumerate(x):\n",
    "\n",
    "\n",
    "\n",
    "        cv2.circle(image, (x[idx], y[idx]), 3, (0, 255, 255), -1)\n",
    "        cv2.putText(image, \"{0}\".format(corrdinate[idx]), (x[idx] - 20, y[idx] - 20),\n",
    "            cv2.FONT_HERSHEY_SIMPLEX, 0.5, (255, 255, 255), 1)\n",
    "\n",
    "    cv2.imwrite('img_{0}.png'.format(number_image), image)"
   ]
  },
  {
   "cell_type": "code",
   "execution_count": 66,
   "metadata": {},
   "outputs": [],
   "source": [
    "get_image(x_3, y_3, id_cell2, i_3, '3')"
   ]
  },
  {
   "cell_type": "code",
   "execution_count": null,
   "metadata": {},
   "outputs": [],
   "source": []
  },
  {
   "cell_type": "code",
   "execution_count": null,
   "metadata": {},
   "outputs": [],
   "source": []
  },
  {
   "cell_type": "code",
   "execution_count": null,
   "metadata": {},
   "outputs": [],
   "source": []
  },
  {
   "cell_type": "code",
   "execution_count": null,
   "metadata": {},
   "outputs": [],
   "source": []
  },
  {
   "cell_type": "code",
   "execution_count": null,
   "metadata": {},
   "outputs": [],
   "source": []
  },
  {
   "cell_type": "code",
   "execution_count": null,
   "metadata": {},
   "outputs": [],
   "source": []
  }
 ],
 "metadata": {
  "kernelspec": {
   "display_name": "Python 3",
   "language": "python",
   "name": "python3"
  },
  "language_info": {
   "codemirror_mode": {
    "name": "ipython",
    "version": 3
   },
   "file_extension": ".py",
   "mimetype": "text/x-python",
   "name": "python",
   "nbconvert_exporter": "python",
   "pygments_lexer": "ipython3",
   "version": "3.7.3"
  }
 },
 "nbformat": 4,
 "nbformat_minor": 4
}
